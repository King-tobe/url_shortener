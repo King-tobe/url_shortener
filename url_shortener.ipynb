{
 "cells": [
  {
   "cell_type": "code",
   "execution_count": 1,
   "id": "5a8e3ca3-a2b6-47bb-bb8f-826390adebd8",
   "metadata": {},
   "outputs": [
    {
     "name": "stdout",
     "output_type": "stream",
     "text": [
      "Requirement already satisfied: pyshorteners in /opt/anaconda3/lib/python3.11/site-packages (1.0.1)\n",
      "Requirement already satisfied: requests in /opt/anaconda3/lib/python3.11/site-packages (from pyshorteners) (2.31.0)\n",
      "Requirement already satisfied: charset-normalizer<4,>=2 in /opt/anaconda3/lib/python3.11/site-packages (from requests->pyshorteners) (2.0.4)\n",
      "Requirement already satisfied: idna<4,>=2.5 in /opt/anaconda3/lib/python3.11/site-packages (from requests->pyshorteners) (3.4)\n",
      "Requirement already satisfied: urllib3<3,>=1.21.1 in /opt/anaconda3/lib/python3.11/site-packages (from requests->pyshorteners) (2.0.7)\n",
      "Requirement already satisfied: certifi>=2017.4.17 in /opt/anaconda3/lib/python3.11/site-packages (from requests->pyshorteners) (2024.2.2)\n"
     ]
    }
   ],
   "source": [
    "!pip install pyshorteners\n"
   ]
  },
  {
   "cell_type": "code",
   "execution_count": 4,
   "id": "7a39e372-0d51-4b9f-b8c2-57db21c1adcf",
   "metadata": {},
   "outputs": [
    {
     "name": "stdin",
     "output_type": "stream",
     "text": [
      "Enter url to shorten:  https://ww19.0123movie.net/movie/venom-the-last-dance-1630857833.html\n"
     ]
    },
    {
     "name": "stdout",
     "output_type": "stream",
     "text": [
      "The shortened url: https://tinyurl.com/25rbluqk\n"
     ]
    }
   ],
   "source": [
    "import pyshorteners\n",
    "\n",
    "long_url  = input(\"Enter url to shorten: \")\n",
    "\n",
    "url_convert = pyshorteners.Shortener()\n",
    "\n",
    "new_url = url_convert.tinyurl.short(long_url)\n",
    "\n",
    "print(\"The shortened url: \" + new_url)"
   ]
  },
  {
   "cell_type": "code",
   "execution_count": null,
   "id": "5b66c779-03f2-40dc-b1c7-d2ec99ee4c6d",
   "metadata": {},
   "outputs": [],
   "source": []
  }
 ],
 "metadata": {
  "kernelspec": {
   "display_name": "Python 3 (ipykernel)",
   "language": "python",
   "name": "python3"
  },
  "language_info": {
   "codemirror_mode": {
    "name": "ipython",
    "version": 3
   },
   "file_extension": ".py",
   "mimetype": "text/x-python",
   "name": "python",
   "nbconvert_exporter": "python",
   "pygments_lexer": "ipython3",
   "version": "3.11.7"
  }
 },
 "nbformat": 4,
 "nbformat_minor": 5
}
